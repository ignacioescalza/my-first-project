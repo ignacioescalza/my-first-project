{
 "cells": [
  {
   "cell_type": "code",
   "execution_count": 1,
   "metadata": {},
   "outputs": [
    {
     "data": {
      "text/plain": [
       "'holatacho'"
      ]
     },
     "execution_count": 1,
     "metadata": {},
     "output_type": "execute_result"
    }
   ],
   "source": [
    "name = \"tacho\"\n",
    "\n",
    "\"hola\" + name"
   ]
  },
  {
   "cell_type": "markdown",
   "metadata": {},
   "source": [
    "lists"
   ]
  },
  {
   "cell_type": "code",
   "execution_count": 2,
   "metadata": {},
   "outputs": [
    {
     "name": "stdout",
     "output_type": "stream",
     "text": [
      "1\n",
      "4\n",
      "9\n",
      "16\n",
      "25\n"
     ]
    }
   ],
   "source": [
    "my_list = [1,2,3,4,5]\n",
    "\n",
    "for element in my_list:\n",
    "  print (element ** 2)"
   ]
  },
  {
   "cell_type": "markdown",
   "metadata": {},
   "source": [
    "functions"
   ]
  },
  {
   "cell_type": "code",
   "execution_count": 3,
   "metadata": {},
   "outputs": [],
   "source": [
    "def say_hello (name):\n",
    "  greet = \"hello \" + name\n",
    "  return greet"
   ]
  },
  {
   "cell_type": "code",
   "execution_count": 4,
   "metadata": {},
   "outputs": [
    {
     "name": "stdout",
     "output_type": "stream",
     "text": [
      "hello tacho\n"
     ]
    }
   ],
   "source": [
    "my_name = \"tacho\"\n",
    "my_greet = say_hello (my_name)\n",
    "print (my_greet)"
   ]
  },
  {
   "cell_type": "code",
   "execution_count": 5,
   "metadata": {},
   "outputs": [
    {
     "name": "stdout",
     "output_type": "stream",
     "text": [
      "hello tacho\n",
      "hello mate\n",
      "hello guille\n"
     ]
    }
   ],
   "source": [
    "my_list = [\"tacho\", \"mate\", \"guille\"] # create a list with names\n",
    "for my_name in my_list: # iterate over the list\n",
    "  my_greet = say_hello (my_name) # use my_function to pass the name and get the greet\n",
    "  print (my_greet) # print the greet"
   ]
  },
  {
   "cell_type": "code",
   "execution_count": 6,
   "metadata": {},
   "outputs": [],
   "source": [
    "import random\n",
    "number_to_guess = random.randint (0,10)\n",
    "\n",
    "def guess_this_number (my_number):\n",
    "  is_my_number_higher = my_number > number_to_guess\n",
    "  if is_my_number_higher:\n",
    "    print (\"is higher\")\n",
    "  else:\n",
    "      is_my_number_the_same = my_number == number_to_guess\n",
    "      if is_my_number_the_same:\n",
    "        print (\"you won\")\n",
    "      else:\n",
    "          print (\"is lower\")"
   ]
  },
  {
   "cell_type": "code",
   "execution_count": 7,
   "metadata": {},
   "outputs": [
    {
     "name": "stdout",
     "output_type": "stream",
     "text": [
      "you won\n"
     ]
    }
   ],
   "source": [
    "guess_this_number (7)"
   ]
  },
  {
   "cell_type": "code",
   "execution_count": null,
   "metadata": {},
   "outputs": [],
   "source": [
    "# You can create a simple Rock-Paper-Scissors game in Python using conditional statements (if, elif, else) and user input. Here's an example:\n",
    "\n",
    "import random\n",
    "\n",
    "def get_user_choice():\n",
    "    while True:\n",
    "        user_choice = input(\"Enter Rock, Paper, or Scissors: \").capitalize()\n",
    "        if user_choice in [\"Rock\", \"Paper\", \"Scissors\"]:\n",
    "            return user_choice\n",
    "        else:\n",
    "            print(\"Invalid choice. Please enter Rock, Paper, or Scissors.\")\n",
    "\n",
    "def get_computer_choice():\n",
    "    choices = [\"Rock\", \"Paper\", \"Scissors\"]\n",
    "    return random.choice(choices)\n",
    "\n",
    "def determine_winner(user, computer):\n",
    "    if user == computer:\n",
    "        return \"It's a tie!\"\n",
    "    elif (user == \"Rock\" and computer == \"Scissors\") or (user == \"Paper\" and computer == \"Rock\") or (user == \"Scissors\" and computer == \"Paper\"):\n",
    "        return \"You win!\"\n",
    "    else:\n",
    "        return \"Computer wins!\"\n",
    "\n",
    "def play_game():\n",
    "    print(\"Let's play Rock, Paper, Scissors!\")\n",
    "    user_choice = get_user_choice()\n",
    "    computer_choice = get_computer_choice()\n",
    "    print(f\"You chose: {user_choice}\")\n",
    "    print(f\"Computer chose: {computer_choice}\")\n",
    "    print(determine_winner(user_choice, computer_choice))\n",
    "\n",
    "# Run the game\n",
    "play_game()"
   ]
  }
 ],
 "metadata": {
  "kernelspec": {
   "display_name": "myenv",
   "language": "python",
   "name": "python3"
  },
  "language_info": {
   "codemirror_mode": {
    "name": "ipython",
    "version": 3
   },
   "file_extension": ".py",
   "mimetype": "text/x-python",
   "name": "python",
   "nbconvert_exporter": "python",
   "pygments_lexer": "ipython3",
   "version": "3.11.7"
  }
 },
 "nbformat": 4,
 "nbformat_minor": 2
}
